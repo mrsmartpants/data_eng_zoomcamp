{
 "cells": [
  {
   "cell_type": "code",
   "execution_count": 1,
   "metadata": {},
   "outputs": [],
   "source": [
    "import pyspark\n",
    "from pyspark.sql import SparkSession"
   ]
  },
  {
   "cell_type": "code",
   "execution_count": 2,
   "metadata": {},
   "outputs": [
    {
     "name": "stderr",
     "output_type": "stream",
     "text": [
      "WARNING: An illegal reflective access operation has occurred\n",
      "WARNING: Illegal reflective access by org.apache.spark.unsafe.Platform (file:/home/ziri/spark/spark-3.0.3-bin-hadoop3.2/jars/spark-unsafe_2.12-3.0.3.jar) to constructor java.nio.DirectByteBuffer(long,int)\n",
      "WARNING: Please consider reporting this to the maintainers of org.apache.spark.unsafe.Platform\n",
      "WARNING: Use --illegal-access=warn to enable warnings of further illegal reflective access operations\n",
      "WARNING: All illegal access operations will be denied in a future release\n",
      "22/02/25 16:28:01 WARN NativeCodeLoader: Unable to load native-hadoop library for your platform... using builtin-java classes where applicable\n",
      "Using Spark's default log4j profile: org/apache/spark/log4j-defaults.properties\n",
      "Setting default log level to \"WARN\".\n",
      "To adjust logging level use sc.setLogLevel(newLevel). For SparkR, use setLogLevel(newLevel).\n"
     ]
    }
   ],
   "source": [
    "spark = SparkSession.builder \\\n",
    "    .master(\"local[*]\") \\\n",
    "    .appName('sql') \\\n",
    "    .getOrCreate()"
   ]
  },
  {
   "cell_type": "markdown",
   "metadata": {},
   "source": [
    "# Creating the dataframes"
   ]
  },
  {
   "cell_type": "code",
   "execution_count": 3,
   "metadata": {},
   "outputs": [
    {
     "name": "stderr",
     "output_type": "stream",
     "text": [
      "                                                                                \r"
     ]
    }
   ],
   "source": [
    "df_green = spark.read.parquet('data/pq/green/*/*')\n",
    "df_green = df_green \\\n",
    "    .withColumnRenamed('lpep_pickup_datetime', 'pickup_datetime') \\\n",
    "    .withColumnRenamed('lpep_dropoff_datetime', 'dropoff_datetime')\n",
    "\n",
    "df_yellow = spark.read.parquet('data/pq/yellow/*/*')\n",
    "df_yellow = df_yellow \\\n",
    "    .withColumnRenamed('tpep_pickup_datetime', 'pickup_datetime') \\\n",
    "    .withColumnRenamed('tpep_dropoff_datetime', 'dropoff_datetime')"
   ]
  },
  {
   "cell_type": "markdown",
   "metadata": {},
   "source": [
    "# Combined dataset"
   ]
  },
  {
   "cell_type": "code",
   "execution_count": 4,
   "metadata": {},
   "outputs": [],
   "source": [
    "common_colums = []\n",
    "\n",
    "yellow_columns = set(df_yellow.columns)\n",
    "\n",
    "for col in df_green.columns:\n",
    "    if col in yellow_columns:\n",
    "        common_colums.append(col)"
   ]
  },
  {
   "cell_type": "code",
   "execution_count": 5,
   "metadata": {},
   "outputs": [],
   "source": [
    "from pyspark.sql import functions as F"
   ]
  },
  {
   "cell_type": "code",
   "execution_count": 6,
   "metadata": {},
   "outputs": [],
   "source": [
    "df_green_sel = df_green \\\n",
    "    .select(common_colums) \\\n",
    "    .withColumn('service_type', F.lit('green'))\n",
    "\n",
    "df_yellow_sel = df_yellow \\\n",
    "    .select(common_colums) \\\n",
    "    .withColumn('service_type', F.lit('yellow'))"
   ]
  },
  {
   "cell_type": "code",
   "execution_count": 8,
   "metadata": {},
   "outputs": [],
   "source": [
    "df_trips_data = df_green_sel.unionAll(df_yellow_sel)"
   ]
  },
  {
   "cell_type": "code",
   "execution_count": 9,
   "metadata": {},
   "outputs": [
    {
     "name": "stderr",
     "output_type": "stream",
     "text": [
      "                                                                                \r"
     ]
    },
    {
     "name": "stdout",
     "output_type": "stream",
     "text": [
      "+------------+--------+\n",
      "|service_type|   count|\n",
      "+------------+--------+\n",
      "|       green| 2304517|\n",
      "|      yellow|39649199|\n",
      "+------------+--------+\n",
      "\n"
     ]
    }
   ],
   "source": [
    "df_trips_data.groupBy('service_type').count().show()"
   ]
  },
  {
   "cell_type": "code",
   "execution_count": 10,
   "metadata": {},
   "outputs": [
    {
     "data": {
      "text/plain": [
       "['VendorID',\n",
       " 'pickup_datetime',\n",
       " 'dropoff_datetime',\n",
       " 'store_and_fwd_flag',\n",
       " 'RatecodeID',\n",
       " 'PULocationID',\n",
       " 'DOLocationID',\n",
       " 'passenger_count',\n",
       " 'trip_distance',\n",
       " 'fare_amount',\n",
       " 'extra',\n",
       " 'mta_tax',\n",
       " 'tip_amount',\n",
       " 'tolls_amount',\n",
       " 'improvement_surcharge',\n",
       " 'total_amount',\n",
       " 'payment_type',\n",
       " 'congestion_surcharge',\n",
       " 'service_type']"
      ]
     },
     "execution_count": 10,
     "metadata": {},
     "output_type": "execute_result"
    }
   ],
   "source": [
    "df_trips_data.columns"
   ]
  },
  {
   "cell_type": "markdown",
   "metadata": {},
   "source": [
    "# SQL"
   ]
  },
  {
   "cell_type": "code",
   "execution_count": 11,
   "metadata": {},
   "outputs": [],
   "source": [
    "df_trips_data.registerTempTable('trips_data')"
   ]
  },
  {
   "cell_type": "code",
   "execution_count": 12,
   "metadata": {},
   "outputs": [
    {
     "name": "stderr",
     "output_type": "stream",
     "text": [
      "                                                                                \r"
     ]
    },
    {
     "name": "stdout",
     "output_type": "stream",
     "text": [
      "+------------+--------+\n",
      "|service_type|count(1)|\n",
      "+------------+--------+\n",
      "|       green| 2304517|\n",
      "|      yellow|39649199|\n",
      "+------------+--------+\n",
      "\n"
     ]
    }
   ],
   "source": [
    "spark.sql(\"\"\"\n",
    "SELECT\n",
    "    service_type,\n",
    "    count(1)\n",
    "FROM\n",
    "    trips_data\n",
    "GROUP BY \n",
    "    service_type\n",
    "\"\"\").show()"
   ]
  },
  {
   "cell_type": "code",
   "execution_count": 13,
   "metadata": {},
   "outputs": [],
   "source": [
    "df_result = spark.sql(\"\"\"\n",
    "SELECT \n",
    "    -- Reveneue grouping \n",
    "    PULocationID AS revenue_zone,\n",
    "    date_trunc('month', pickup_datetime) AS revenue_month, \n",
    "    service_type, \n",
    "\n",
    "    -- Revenue calculation \n",
    "    SUM(fare_amount) AS revenue_monthly_fare,\n",
    "    SUM(extra) AS revenue_monthly_extra,\n",
    "    SUM(mta_tax) AS revenue_monthly_mta_tax,\n",
    "    SUM(tip_amount) AS revenue_monthly_tip_amount,\n",
    "    SUM(tolls_amount) AS revenue_monthly_tolls_amount,\n",
    "    SUM(improvement_surcharge) AS revenue_monthly_improvement_surcharge,\n",
    "    SUM(total_amount) AS revenue_monthly_total_amount,\n",
    "    SUM(congestion_surcharge) AS revenue_monthly_congestion_surcharge,\n",
    "\n",
    "    -- Additional calculations\n",
    "    AVG(passenger_count) AS avg_montly_passenger_count,\n",
    "    AVG(trip_distance) AS avg_montly_trip_distance\n",
    "FROM\n",
    "    trips_data\n",
    "GROUP BY\n",
    "    1, 2, 3\n",
    "\"\"\")"
   ]
  },
  {
   "cell_type": "code",
   "execution_count": 14,
   "metadata": {},
   "outputs": [
    {
     "name": "stderr",
     "output_type": "stream",
     "text": [
      "[Stage 22:====================================================>   (14 + 1) / 15]\r"
     ]
    },
    {
     "name": "stdout",
     "output_type": "stream",
     "text": [
      "+------------+-------------------+------------+--------------------+---------------------+-----------------------+--------------------------+----------------------------+-------------------------------------+----------------------------+------------------------------------+--------------------------+------------------------+\n",
      "|revenue_zone|      revenue_month|service_type|revenue_monthly_fare|revenue_monthly_extra|revenue_monthly_mta_tax|revenue_monthly_tip_amount|revenue_monthly_tolls_amount|revenue_monthly_improvement_surcharge|revenue_monthly_total_amount|revenue_monthly_congestion_surcharge|avg_montly_passenger_count|avg_montly_trip_distance|\n",
      "+------------+-------------------+------------+--------------------+---------------------+-----------------------+--------------------------+----------------------------+-------------------------------------+----------------------------+------------------------------------+--------------------------+------------------------+\n",
      "|         250|2020-02-01 00:00:00|       green|  15359.960000000032|               1282.5|                  117.5|        56.010000000000005|           590.3200000000004|                    180.0000000000011|          17598.439999999948|                                11.0|        1.2394957983193278|       4.962810650887575|\n",
      "|         158|2020-02-01 00:00:00|       green|              124.36|                 8.25|                    0.5|                       0.0|                         2.8|                   0.8999999999999999|                      136.81|                                null|                      null|      11.090000000000002|\n",
      "|          15|2020-03-01 00:00:00|       green|  1682.2300000000002|                  5.5|                    6.5|                       0.0|                       79.56|                   19.800000000000026|          1802.4399999999998|                                 0.0|                       1.0|       7.910298507462687|\n",
      "|         229|2020-03-01 00:00:00|       green|   676.3600000000001|                  0.0|                    1.0|                       0.0|          42.839999999999996|                    8.099999999999998|           728.2999999999998|                                 0.0|                       1.0|       7.691111111111111|\n",
      "|         137|2020-10-01 00:00:00|       green|  3480.8300000000004|                  0.0|                    0.0|                     297.0|          250.92000000000013|                    32.40000000000005|                     4061.15|                                null|                      null|       9.184722222222225|\n",
      "|          44|2020-10-01 00:00:00|       green|               146.5|                  3.5|                    2.0|                       5.5|                         0.0|                                  1.2|                       158.7|                                 0.0|                       1.0|                 12.0475|\n",
      "|          41|2020-11-01 00:00:00|       green|   52371.86999999992|              1341.25|                 2025.0|         5862.450000000012|           567.5700000000003|                    1374.299999999883|           65967.39000000329|                              2713.5|        1.2318805682639056|      10.049589277993947|\n",
      "|         108|2020-11-01 00:00:00|       green|   6710.019999999991|                  7.5|                   23.5|                    482.33|           215.7100000000001|                    54.29999999999984|           7496.110000000001|                                2.75|        1.0208333333333333|      238.73646408839784|\n",
      "|         259|2021-04-01 00:00:00|       green|   7895.719999999996|                585.2|                    6.0|        148.82999999999998|           465.2400000000001|                    71.09999999999991|           9177.589999999995|                                 0.0|                       1.2|       9.195020920502094|\n",
      "|         161|2021-04-01 00:00:00|       green|             1096.75|                 88.0|                    0.0|                       0.0|          63.230000000000004|                    9.299999999999997|          1257.2800000000002|                                null|                      null|      10.048709677419355|\n",
      "|         131|2020-12-01 00:00:00|       green|   5490.600000000002|                  0.0|                    1.5|         561.1399999999999|          128.03000000000003|                     58.4999999999998|           6242.519999999997|                                 0.0|                       1.0|       5.940101522842643|\n",
      "|          15|2020-12-01 00:00:00|       green|   709.5199999999999|                  0.0|                    0.0|                     63.25|                       12.24|                    6.899999999999998|                      791.91|                                null|                      null|       6.340434782608695|\n",
      "|         123|2020-08-01 00:00:00|       green|   5276.649999999995|                  3.5|                   17.5|                    454.61|          118.18000000000002|                    59.99999999999979|           5930.440000000001|                                 0.0|                       1.0|       5.190900000000003|\n",
      "|         254|2021-01-01 00:00:00|       green|  10794.399999999989|               382.74|                   15.0|                    634.13|           421.2000000000002|                   113.99999999999928|          12364.220000000018|                                 0.0|        1.0303030303030303|      6.8015526315789465|\n",
      "|         167|2020-06-01 00:00:00|       green|   7510.849999999998|                 19.0|                   49.0|        433.06000000000006|          429.03000000000014|                    86.69999999999953|            8559.04000000001|                                 5.5|                     1.152|       6.481262798634811|\n",
      "|          37|2020-06-01 00:00:00|       green|   8582.560000000001|                 17.5|                   30.0|         491.5999999999999|           293.2500000000001|                    99.59999999999941|           9583.510000000004|                                16.5|        1.1333333333333333|       6.576987951807226|\n",
      "|         106|2020-06-01 00:00:00|       green|   3419.650000000001|                 6.75|                   10.5|        376.09999999999997|          42.839999999999996|                   44.399999999999935|           3916.289999999998|                                8.25|                       1.3|       5.232905405405406|\n",
      "|         242|2021-02-01 00:00:00|       green|  13165.010000000055|              1445.55|                   19.5|                      44.0|           403.9200000000002|                   168.60000000000068|          15269.579999999993|                                 8.0|        1.0512820512820513|       4.575569395017791|\n",
      "|          72|2021-02-01 00:00:00|       green|   9811.500000000002|               1083.5|                    6.0|                     71.53|          146.88000000000005|                   124.49999999999918|          11248.910000000002|                                 0.0|                      1.25|      4.3061445783132495|\n",
      "|          29|2020-05-01 00:00:00|       green|  14893.319999999992|                 27.0|                   45.5|        232.04000000000002|           539.6100000000002|                   141.89999999999966|           15997.61999999998|                                2.75|        1.1692307692307693|      10.338435517970407|\n",
      "+------------+-------------------+------------+--------------------+---------------------+-----------------------+--------------------------+----------------------------+-------------------------------------+----------------------------+------------------------------------+--------------------------+------------------------+\n",
      "only showing top 20 rows\n",
      "\n"
     ]
    },
    {
     "name": "stderr",
     "output_type": "stream",
     "text": [
      "                                                                                \r"
     ]
    }
   ],
   "source": [
    "df_result.show()"
   ]
  },
  {
   "cell_type": "code",
   "execution_count": 15,
   "metadata": {},
   "outputs": [
    {
     "name": "stderr",
     "output_type": "stream",
     "text": [
      "                                                                                \r"
     ]
    }
   ],
   "source": [
    "df_result.coalesce(1).write.parquet('data/report/revenue/', mode='overwrite')\n"
   ]
  }
 ],
 "metadata": {
  "interpreter": {
   "hash": "1cc142a295aadb3a4a4b07e4cf623a190b887fd9d0099585537187a2dbcd9102"
  },
  "kernelspec": {
   "display_name": "Python 3.9.7 ('base': conda)",
   "language": "python",
   "name": "python3"
  },
  "language_info": {
   "codemirror_mode": {
    "name": "ipython",
    "version": 3
   },
   "file_extension": ".py",
   "mimetype": "text/x-python",
   "name": "python",
   "nbconvert_exporter": "python",
   "pygments_lexer": "ipython3",
   "version": "3.9.7"
  },
  "orig_nbformat": 4
 },
 "nbformat": 4,
 "nbformat_minor": 2
}
